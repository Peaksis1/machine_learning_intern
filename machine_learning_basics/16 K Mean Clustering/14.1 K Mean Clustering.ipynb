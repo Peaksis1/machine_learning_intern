{
 "cells": [
  {
   "cell_type": "markdown",
   "metadata": {},
   "source": [
    "### Clustering:\n",
    "Clustering, falling under the category of unsupervised machine learning, is a one of the problems that machine learning algorithms solve.\n",
    "\n",
    "- Clustering is the process of grouping similar data points together. The goal of this unsupervised machine learning technique is to find similarities in the data points and group similar data points together.\n",
    "- Clustering only uses the input data, to determine patterns or similarities in its input data.\n",
    "<img src='./Image/14.1 Image a.png' width='60%' height='60%'/>\n",
    "\n",
    "\n",
    "- **Clustering algorithm aims to create clusters whose:**\n",
    "  - **intra-cluster distance** (Distance between data points within a cluster) is minimum.\n",
    "  - **inter-cluster distance** (Distance between two clusters) is maximum.\n",
    "<img src='./Image/14.1 Image b.jpg' width='60%' height='60%'/>"
   ]
  },
  {
   "cell_type": "markdown",
   "metadata": {},
   "source": [
    "## K-Mean Clustering: \n",
    "- This algorithm is used to classify or group objects based on attributes/features into K number of groups. K is positive integer number.\n",
    "- K-means performs division of objects into clusters which are “similar” to eachother.\n",
    "<img src='./Image/14.1 Image c.png' width='60%' height='60%'/>\n",
    "\n",
    "**Eg.** Grouping of documents, music and movies or finding customers those are having similar interest based on common purchase behaviour as a basis for recommendation engines.\n",
    "\n",
    "- In K-Means clustering, each cluster can either be the centroid of similar points with continuous features or the medoid(most frequently occuring points) in case of categorical features.\n",
    "\n",
    "- One of the drawbacks of this clustering algorithm is that we have to specify the number of clusters. An inappropriate choice for clusters can result in poor clustering performance.\n",
    "\n",
    "But there are some techniques (elbow method and silhoutte plots) which are useful to evaluate the quality of a clustering to help us determine the optimal no. of clusters.\n",
    "\n",
    "### K-Mean Algorithm Workflow:\n",
    "- Step 1: Choose the number of k clusters.\n",
    "- Step 2: Select at random k points, the centroids.\n",
    "- Step 3: Assign each data points to closest centroid.\n",
    "- Step 4: Compute and place the new centroid of each cluster.\n",
    "- Step 5: Reassign each data point to the new closest centroid.\n",
    "If any reassignment took place, go to step 4, otherwise model is ready.\n",
    "<img src='./Image/14.1 Image d.png' width='40%' height='40%'/>\n",
    "<img src='./Image/14.1 Image e.png' width='40%' height='40%'/>\n",
    "<img src='./Image/14.1 Image f.png' width='40%' height='40%'/>\n",
    "<img src='./Image/14.1 Image g.png' width='40%' height='40%'/>\n",
    "<img src='./Image/14.1 Image h.png' width='40%' height='40%'/>\n",
    "\n",
    "### Choosing right no. of cluster:\n",
    "- Objective function in k-Means measures sum of distances of observations from their cluster centroids, called **Within-Cluster-Sum-of-Squares(WCSS)** which is sometimes also called **clustering inertia**.\n",
    "<img src='./Image/14.1 Image i.png' width='50%' height='50%'/>\n",
    "            \n",
    "- Hence the less the WCSS says or the higher the number of close is the better the goodness of fit i.e, we were fitting our data better and better and better and therefore the lesser the WCSS says the better the goodness of fit is deemed to be.\n",
    "- But, when WCSS drops not substantially this is hint at selecting the optimum optimal number of clusters and the method we're going to use is the elbow method.\n",
    "  - i.e, Look for that elbow in your chart where the drop goes from being quite substantial to being not as substantial not as proven is not as great and therefore that point in your chart is going to be the optimal number of clusters.\n",
    "  \n",
    "### Summary: \n",
    "K-means clustering is a type of unsupervised learning, which is used when you have unlabeled data (i.e., data without defined categories or groups). The goal of this algorithm is to find groups in the data, with the number of groups represented by the variable K. The algorithm works iteratively to assign each data point to one of K groups based on the features that are provided. Data points are clustered based on feature similarity.\n",
    "\n",
    "The results of the K-means clustering algorithm are:\n",
    "\n",
    "1) The centroids of the K clusters, which can be used to label new data.\n",
    "\n",
    "2) Labels for the training data (each data point is assigned to a single cluster)."
   ]
  },
  {
   "cell_type": "code",
   "execution_count": 1,
   "metadata": {},
   "outputs": [],
   "source": [
    "import numpy as np\n",
    "import matplotlib.pyplot as plt\n",
    "import pandas as pd"
   ]
  },
  {
   "cell_type": "code",
   "execution_count": 2,
   "metadata": {},
   "outputs": [
    {
     "data": {
      "text/html": [
       "<div>\n",
       "<style scoped>\n",
       "    .dataframe tbody tr th:only-of-type {\n",
       "        vertical-align: middle;\n",
       "    }\n",
       "\n",
       "    .dataframe tbody tr th {\n",
       "        vertical-align: top;\n",
       "    }\n",
       "\n",
       "    .dataframe thead th {\n",
       "        text-align: right;\n",
       "    }\n",
       "</style>\n",
       "<table border=\"1\" class=\"dataframe\">\n",
       "  <thead>\n",
       "    <tr style=\"text-align: right;\">\n",
       "      <th></th>\n",
       "      <th>CustomerID</th>\n",
       "      <th>Genre</th>\n",
       "      <th>Age</th>\n",
       "      <th>Annual Income (k$)</th>\n",
       "      <th>Spending Score (1-100)</th>\n",
       "    </tr>\n",
       "  </thead>\n",
       "  <tbody>\n",
       "    <tr>\n",
       "      <th>0</th>\n",
       "      <td>1</td>\n",
       "      <td>Male</td>\n",
       "      <td>19</td>\n",
       "      <td>15</td>\n",
       "      <td>39</td>\n",
       "    </tr>\n",
       "    <tr>\n",
       "      <th>1</th>\n",
       "      <td>2</td>\n",
       "      <td>Male</td>\n",
       "      <td>21</td>\n",
       "      <td>15</td>\n",
       "      <td>81</td>\n",
       "    </tr>\n",
       "    <tr>\n",
       "      <th>2</th>\n",
       "      <td>3</td>\n",
       "      <td>Female</td>\n",
       "      <td>20</td>\n",
       "      <td>16</td>\n",
       "      <td>6</td>\n",
       "    </tr>\n",
       "    <tr>\n",
       "      <th>3</th>\n",
       "      <td>4</td>\n",
       "      <td>Female</td>\n",
       "      <td>23</td>\n",
       "      <td>16</td>\n",
       "      <td>77</td>\n",
       "    </tr>\n",
       "    <tr>\n",
       "      <th>4</th>\n",
       "      <td>5</td>\n",
       "      <td>Female</td>\n",
       "      <td>31</td>\n",
       "      <td>17</td>\n",
       "      <td>40</td>\n",
       "    </tr>\n",
       "  </tbody>\n",
       "</table>\n",
       "</div>"
      ],
      "text/plain": [
       "   CustomerID   Genre  Age  Annual Income (k$)  Spending Score (1-100)\n",
       "0           1    Male   19                  15                      39\n",
       "1           2    Male   21                  15                      81\n",
       "2           3  Female   20                  16                       6\n",
       "3           4  Female   23                  16                      77\n",
       "4           5  Female   31                  17                      40"
      ]
     },
     "execution_count": 2,
     "metadata": {},
     "output_type": "execute_result"
    }
   ],
   "source": [
    "data = pd.read_csv('14.1Mall_Customers.csv')\n",
    "data.head()"
   ]
  },
  {
   "cell_type": "code",
   "execution_count": 3,
   "metadata": {},
   "outputs": [
    {
     "data": {
      "text/plain": [
       "(200, 5)"
      ]
     },
     "execution_count": 3,
     "metadata": {},
     "output_type": "execute_result"
    }
   ],
   "source": [
    "data.shape"
   ]
  },
  {
   "cell_type": "markdown",
   "metadata": {},
   "source": [
    "**ML Question Formulation:** To segment the clients into different groups based on these two metrics: the annual income and the spending score."
   ]
  },
  {
   "cell_type": "code",
   "execution_count": 4,
   "metadata": {},
   "outputs": [],
   "source": [
    "x= data.iloc[:, [3, 4]].values"
   ]
  },
  {
   "cell_type": "code",
   "execution_count": 5,
   "metadata": {},
   "outputs": [
    {
     "data": {
      "image/png": "[encoded data removed]",
      "text/plain": [
       "<Figure size 432x288 with 1 Axes>"
      ]
     },
     "metadata": {
      "needs_background": "light"
     },
     "output_type": "display_data"
    }
   ],
   "source": [
    "plt.scatter(x[:, 0], x[:, 1], marker= 'o', s=50)\n",
    "plt.grid()\n",
    "plt.show()"
   ]
  },
  {
   "cell_type": "code",
   "execution_count": 6,
   "metadata": {},
   "outputs": [
    {
     "data": {
      "image/png": "[encoded data removed]",
      "text/plain": [
       "<Figure size 432x288 with 1 Axes>"
      ]
     },
     "metadata": {
      "needs_background": "light"
     },
     "output_type": "display_data"
    }
   ],
   "source": [
    "# Using the method to find the optimal number of clusters:\n",
    "from sklearn.cluster import KMeans\n",
    "wcss= []\n",
    "for i in range(1, 11):\n",
    "    kmeans= KMeans(n_clusters= i, init= 'k-means++', max_iter= 300, n_init= 10, random_state= 0)\n",
    "    kmeans.fit(x)\n",
    "    wcss.append(kmeans.inertia_)\n",
    "plt.plot(range(1, 11), wcss)\n",
    "plt.title('The Elbow Method')\n",
    "plt.xlabel('Number of clusters')\n",
    "plt.ylabel('WCSS')\n",
    "plt.show()\n",
    "\n",
    "# Here we are trying to minimize the within cluster sum of squares to plot our elbow method chart."
   ]
  },
  {
   "cell_type": "code",
   "execution_count": 8,
   "metadata": {},
   "outputs": [
    {
     "data": {
      "text/html": [
       "<div>\n",
       "<style scoped>\n",
       "    .dataframe tbody tr th:only-of-type {\n",
       "        vertical-align: middle;\n",
       "    }\n",
       "\n",
       "    .dataframe tbody tr th {\n",
       "        vertical-align: top;\n",
       "    }\n",
       "\n",
       "    .dataframe thead th {\n",
       "        text-align: right;\n",
       "    }\n",
       "</style>\n",
       "<table border=\"1\" class=\"dataframe\">\n",
       "  <thead>\n",
       "    <tr style=\"text-align: right;\">\n",
       "      <th></th>\n",
       "      <th>0</th>\n",
       "    </tr>\n",
       "  </thead>\n",
       "  <tbody>\n",
       "    <tr>\n",
       "      <th>1</th>\n",
       "      <td>269981.280000</td>\n",
       "    </tr>\n",
       "    <tr>\n",
       "      <th>2</th>\n",
       "      <td>181363.595960</td>\n",
       "    </tr>\n",
       "    <tr>\n",
       "      <th>3</th>\n",
       "      <td>106348.373062</td>\n",
       "    </tr>\n",
       "    <tr>\n",
       "      <th>4</th>\n",
       "      <td>73679.789039</td>\n",
       "    </tr>\n",
       "    <tr>\n",
       "      <th>5</th>\n",
       "      <td>44448.455448</td>\n",
       "    </tr>\n",
       "    <tr>\n",
       "      <th>6</th>\n",
       "      <td>37265.865205</td>\n",
       "    </tr>\n",
       "    <tr>\n",
       "      <th>7</th>\n",
       "      <td>30259.657207</td>\n",
       "    </tr>\n",
       "    <tr>\n",
       "      <th>8</th>\n",
       "      <td>25095.703210</td>\n",
       "    </tr>\n",
       "    <tr>\n",
       "      <th>9</th>\n",
       "      <td>21830.041978</td>\n",
       "    </tr>\n",
       "    <tr>\n",
       "      <th>10</th>\n",
       "      <td>20736.679939</td>\n",
       "    </tr>\n",
       "  </tbody>\n",
       "</table>\n",
       "</div>"
      ],
      "text/plain": [
       "                0\n",
       "1   269981.280000\n",
       "2   181363.595960\n",
       "3   106348.373062\n",
       "4    73679.789039\n",
       "5    44448.455448\n",
       "6    37265.865205\n",
       "7    30259.657207\n",
       "8    25095.703210\n",
       "9    21830.041978\n",
       "10   20736.679939"
      ]
     },
     "execution_count": 8,
     "metadata": {},
     "output_type": "execute_result"
    }
   ],
   "source": [
    "pd.DataFrame(wcss, index= range(1, 11))"
   ]
  },
  {
   "cell_type": "code",
   "execution_count": 9,
   "metadata": {},
   "outputs": [],
   "source": [
    "# Fitting K-Means to the dataset\n",
    "kmeans = KMeans(n_clusters = 5, init = 'k-means++', max_iter= 300, n_init= 10, random_state= 0)"
   ]
  },
  {
   "cell_type": "markdown",
   "metadata": {},
   "source": [
    "we set n_init=10 to run the k-means clustering algorithm 10 times independently with different random centroids to choose the final model as the one with lowest SSE(cluster inertia).\n",
    "\n",
    "max_iter parameter specify maximum number of iterations for each single run."
   ]
  },
  {
   "cell_type": "code",
   "execution_count": 10,
   "metadata": {},
   "outputs": [
    {
     "data": {
      "text/plain": [
       "KMeans(algorithm='auto', copy_x=True, init='k-means++', max_iter=300,\n",
       "    n_clusters=5, n_init=10, n_jobs=None, precompute_distances='auto',\n",
       "    random_state=0, tol=0.0001, verbose=0)"
      ]
     },
     "execution_count": 10,
     "metadata": {},
     "output_type": "execute_result"
    }
   ],
   "source": [
    "kmeans.fit(x)"
   ]
  },
  {
   "cell_type": "code",
   "execution_count": 11,
   "metadata": {},
   "outputs": [],
   "source": [
    "y_kmeans = kmeans.predict(x)"
   ]
  },
  {
   "cell_type": "code",
   "execution_count": 12,
   "metadata": {},
   "outputs": [
    {
     "data": {
      "text/plain": [
       "44448.45544793371"
      ]
     },
     "execution_count": 12,
     "metadata": {},
     "output_type": "execute_result"
    }
   ],
   "source": [
    "kmeans.inertia_"
   ]
  },
  {
   "cell_type": "code",
   "execution_count": 13,
   "metadata": {},
   "outputs": [
    {
     "data": {
      "image/png": "[encoded data removed]",
      "text/plain": [
       "<Figure size 720x360 with 1 Axes>"
      ]
     },
     "metadata": {
      "needs_background": "light"
     },
     "output_type": "display_data"
    }
   ],
   "source": [
    "# Visualising the clusters\n",
    "plt.figure(figsize=(10,5))\n",
    "plt.scatter(x[y_kmeans== 0, 0], x[y_kmeans== 0, 1], s= 40, c= 'red', label= 'Cluster 1= Carefull')\n",
    "plt.scatter(x[y_kmeans== 1, 0], x[y_kmeans== 1, 1], s= 40, c= 'blue', label= 'Cluster 2= Standard')\n",
    "plt.scatter(x[y_kmeans== 2, 0], x[y_kmeans== 2, 1], s= 40, c= 'green', label= 'Cluster 3= Target')\n",
    "plt.scatter(x[y_kmeans== 3, 0], x[y_kmeans== 3, 1], s= 40, c= 'cyan', label= 'Cluster 4= Careless')\n",
    "plt.scatter(x[y_kmeans== 4, 0], x[y_kmeans== 4, 1], s= 40, c= 'magenta', label= 'Cluster 5= Sensible')\n",
    "plt.scatter(kmeans.cluster_centers_[:, 0], kmeans.cluster_centers_[:, 1], s = 100, c = 'black', label = 'Centroids')\n",
    "plt.title('Clusters of customers')\n",
    "plt.xlabel('Annual Income (k$)')\n",
    "plt.ylabel('Spending Score (1-100)')\n",
    "plt.legend()\n",
    "plt.show()"
   ]
  },
  {
   "cell_type": "code",
   "execution_count": null,
   "metadata": {},
   "outputs": [],
   "source": []
  }
 ],
 "metadata": {
  "kernelspec": {
   "display_name": "Python 3",
   "language": "python",
   "name": "python3"
  },
  "language_info": {
   "codemirror_mode": {
    "name": "ipython",
    "version": 3
   },
   "file_extension": ".py",
   "mimetype": "text/x-python",
   "name": "python",
   "nbconvert_exporter": "python",
   "pygments_lexer": "ipython3",
   "version": "3.7.3"
  }
 },
 "nbformat": 4,
 "nbformat_minor": 2
}
