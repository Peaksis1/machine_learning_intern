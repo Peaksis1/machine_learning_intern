{
 "cells": [
  {
   "cell_type": "markdown",
   "metadata": {},
   "source": [
    "## Support Vector Machine: \n",
    "It's Supervised learning regression/classification algorithm. It can operate even in infinite dimension. The objective of the support vector machine algorithm is to find a hyperplane with maximum margin in an N-dimensional space(N — the number of features) that distinctly classifies the data points.\n",
    "\n",
    "- SVM work with both linear and non-linear data.\n",
    "\n",
    "- SVM finds a **hyperplane** that leads to a homogeneous partition of data. A good separation is achieved by the hyperplane that has largest distance to the nearest training data points of any class. Hence we maximize the margin.\n",
    "- We perform classification by finding the hyperplane that maximize the margin between two classes.\n",
    "\n",
    "- **Margin** is defined as the distance between the separating hyperplane(decision boundary) and the training samples that are closest to this hyperplane,called **support vectors**. \n",
    "<img src='Image/12.1 Image a.jpg' width='60%' height='60%'/>\n",
    "\n",
    "### Why margin should be maximum?\n",
    "- The reason behind having decision boundaries with large margin is that they tend to have a lower generalization error whereas models with small margins are more prone to overfitting.\n",
    "<img src='Image/12.1 Image b.PNG' width='60%' height='60%'/>\n",
    "\n",
    "Here, the second line would be a better classifier because it is as far away as possible from both the clusters(classess) while getting the training data separation right. By being right in the middle of the two clusters, it will generalizes well on test data.\n",
    "\n",
    "### How to deal with real world data?\n",
    "Real-world data is typically messy. We will almost always have a few instances that a linear classifier can’t get right.\n",
    "- We use parameter C to control the width of the margin and therefore tune the bias-variance trade-off.\n",
    "<img src='Image/12.1 Image c.png' width='60%' height='60%'/>\n",
    "\n",
    "### C Regularization Parameter:\n",
    "- For **large values of C**, the optimization will choose a smaller-margin hyperplane if that hyperplane does a better job of getting all the training points classified correctly.\n",
    "\n",
    "- For a **very small value of C** will cause the optimizer to look for a larger-margin separating hyperplane, even if that hyperplane misclassifies some points.\n",
    "\n",
    "- Generally, decreasing the value of C will increase the cost of misclassification and vice-versa.\n",
    "<img src='Image/12.1 Image d.PNG' width='60%' height='60%'/>"
   ]
  },
  {
   "cell_type": "code",
   "execution_count": 1,
   "metadata": {},
   "outputs": [],
   "source": [
    "import numpy as np\n",
    "import pandas as pd\n",
    "import matplotlib.pyplot as plt"
   ]
  },
  {
   "cell_type": "code",
   "execution_count": 2,
   "metadata": {},
   "outputs": [],
   "source": [
    "from sklearn.datasets import load_iris\n",
    "iris = load_iris()\n",
    "x = iris.data[50:,[0,3]]\n",
    "y = iris.target[50:]"
   ]
  },
  {
   "cell_type": "code",
   "execution_count": 3,
   "metadata": {},
   "outputs": [
    {
     "data": {
      "image/png": "[encoded data removed]",
      "text/plain": [
       "<Figure size 432x288 with 1 Axes>"
      ]
     },
     "metadata": {
      "needs_background": "light"
     },
     "output_type": "display_data"
    }
   ],
   "source": [
    "plt.scatter(x[:, 0], x[:, 1], c=y, cmap= 'winter')\n",
    "plt.show()"
   ]
  },
  {
   "cell_type": "code",
   "execution_count": 4,
   "metadata": {},
   "outputs": [],
   "source": [
    "from sklearn.model_selection import train_test_split\n",
    "x_train, x_test, y_train, y_test = train_test_split(x, y, test_size=.20, random_state=0)"
   ]
  },
  {
   "cell_type": "code",
   "execution_count": 5,
   "metadata": {},
   "outputs": [],
   "source": [
    "from sklearn.svm import SVC\n",
    "svc = SVC(C=1, kernel='linear', probability= True)"
   ]
  },
  {
   "cell_type": "code",
   "execution_count": 6,
   "metadata": {},
   "outputs": [
    {
     "data": {
      "text/plain": [
       "SVC(C=1, cache_size=200, class_weight=None, coef0=0.0,\n",
       "  decision_function_shape='ovr', degree=3, gamma='auto_deprecated',\n",
       "  kernel='linear', max_iter=-1, probability=True, random_state=None,\n",
       "  shrinking=True, tol=0.001, verbose=False)"
      ]
     },
     "execution_count": 6,
     "metadata": {},
     "output_type": "execute_result"
    }
   ],
   "source": [
    "svc.fit(x_train, y_train)"
   ]
  },
  {
   "cell_type": "code",
   "execution_count": 7,
   "metadata": {},
   "outputs": [],
   "source": [
    "y_pred= svc.predict(x_test)"
   ]
  },
  {
   "cell_type": "code",
   "execution_count": 8,
   "metadata": {},
   "outputs": [
    {
     "data": {
      "text/plain": [
       "1.0"
      ]
     },
     "execution_count": 8,
     "metadata": {},
     "output_type": "execute_result"
    }
   ],
   "source": [
    "from sklearn.metrics import accuracy_score\n",
    "accuracy_score(y_test, y_pred)"
   ]
  },
  {
   "cell_type": "code",
   "execution_count": 9,
   "metadata": {},
   "outputs": [
    {
     "name": "stdout",
     "output_type": "stream",
     "text": [
      "0.925\n"
     ]
    },
    {
     "data": {
      "text/plain": [
       "1.0"
      ]
     },
     "execution_count": 9,
     "metadata": {},
     "output_type": "execute_result"
    }
   ],
   "source": [
    "print(svc.score(x_train, y_train))\n",
    "svc.score(x_test, y_test)"
   ]
  },
  {
   "cell_type": "code",
   "execution_count": 10,
   "metadata": {},
   "outputs": [],
   "source": [
    "# Let's find the proof of test sample at index 0 belonging to which class\n",
    "t0 = x_test[0].reshape(1,-1)"
   ]
  },
  {
   "cell_type": "code",
   "execution_count": 11,
   "metadata": {},
   "outputs": [
    {
     "data": {
      "text/plain": [
       "array([[0.81819652, 0.18180348]])"
      ]
     },
     "execution_count": 11,
     "metadata": {},
     "output_type": "execute_result"
    }
   ],
   "source": [
    "svc.predict_proba(t0)"
   ]
  },
  {
   "cell_type": "code",
   "execution_count": 12,
   "metadata": {},
   "outputs": [
    {
     "data": {
      "text/plain": [
       "array([-0.65442997])"
      ]
     },
     "execution_count": 12,
     "metadata": {},
     "output_type": "execute_result"
    }
   ],
   "source": [
    "svc.decision_function(t0)"
   ]
  },
  {
   "cell_type": "markdown",
   "metadata": {},
   "source": [
    "From both probability and distance it is clearly seen that probability is high w.r.t class 0 and also distance of data is high with negative value that clearly indicate data belong to class 0."
   ]
  },
  {
   "cell_type": "code",
   "execution_count": 13,
   "metadata": {},
   "outputs": [
    {
     "data": {
      "text/plain": [
       "1"
      ]
     },
     "execution_count": 13,
     "metadata": {},
     "output_type": "execute_result"
    }
   ],
   "source": [
    "y_test[0]"
   ]
  },
  {
   "cell_type": "code",
   "execution_count": 14,
   "metadata": {},
   "outputs": [
    {
     "data": {
      "text/plain": [
       "array([1])"
      ]
     },
     "execution_count": 14,
     "metadata": {},
     "output_type": "execute_result"
    }
   ],
   "source": [
    "svc.predict(t0)"
   ]
  },
  {
   "cell_type": "markdown",
   "metadata": {},
   "source": [
    "Hence predicted and actual class both are same."
   ]
  },
  {
   "cell_type": "markdown",
   "metadata": {},
   "source": [
    "#### Calculating manually:"
   ]
  },
  {
   "cell_type": "code",
   "execution_count": 15,
   "metadata": {},
   "outputs": [
    {
     "data": {
      "text/plain": [
       "array([[0.2159811 , 3.48165879]])"
      ]
     },
     "execution_count": 15,
     "metadata": {},
     "output_type": "execute_result"
    }
   ],
   "source": [
    "svc.coef_"
   ]
  },
  {
   "cell_type": "code",
   "execution_count": 16,
   "metadata": {},
   "outputs": [
    {
     "data": {
      "text/plain": [
       "array([-6.99742378])"
      ]
     },
     "execution_count": 16,
     "metadata": {},
     "output_type": "execute_result"
    }
   ],
   "source": [
    "svc.intercept_"
   ]
  },
  {
   "cell_type": "code",
   "execution_count": 17,
   "metadata": {},
   "outputs": [
    {
     "data": {
      "text/plain": [
       "array([0.2159811 , 3.48165879])"
      ]
     },
     "execution_count": 17,
     "metadata": {},
     "output_type": "execute_result"
    }
   ],
   "source": [
    "svc.coef_[0]"
   ]
  },
  {
   "cell_type": "code",
   "execution_count": 22,
   "metadata": {},
   "outputs": [],
   "source": [
    "w = svc.coef_[0]\n",
    "a = -(w[0] / w[1])"
   ]
  },
  {
   "cell_type": "code",
   "execution_count": 20,
   "metadata": {},
   "outputs": [
    {
     "data": {
      "text/plain": [
       "(0.21598110357079392, 3.481658793154489)"
      ]
     },
     "execution_count": 20,
     "metadata": {},
     "output_type": "execute_result"
    }
   ],
   "source": [
    "w[0], w[1]"
   ]
  },
  {
   "cell_type": "code",
   "execution_count": null,
   "metadata": {},
   "outputs": [],
   "source": [
    "x1 = np.linspace(5.0, 8.0, 100)\n",
    "x2 =  a * x1 + ((-svc.intercept_) / w[1])"
   ]
  },
  {
   "cell_type": "code",
   "execution_count": null,
   "metadata": {},
   "outputs": [],
   "source": [
    "plt.scatter(x[:,0], x[:,1],c = y, cmap='winter')\n",
    "plt.plot(x1, x2)\n",
    "plt.title('when C={}'.format(1.0))\n",
    "plt.xlabel('feature_1')\n",
    "plt.ylabel('feature_2')\n",
    "plt.show()"
   ]
  },
  {
   "cell_type": "code",
   "execution_count": null,
   "metadata": {},
   "outputs": [],
   "source": [
    "for i in [.001, .01, 1, 10]:\n",
    "    svc = SVC(C=i,kernel='linear', gamma='auto', probability= True)\n",
    "    svc.fit(x_train, y_train)\n",
    "    print('when C=',i)\n",
    "    print (svc.score(x_train, y_train))\n",
    "    print (svc.score(x_test, y_test))\n",
    "    w = svc.coef_[0]\n",
    "    a = -(w[0] / w[1])\n",
    "    x1 = np.linspace(5.0, 8.0, 100)\n",
    "    x2 =  a * x1 + ((-svc.intercept_) / w[1])\n",
    "    plt.scatter(x[:,0], x[:,1],c = y, cmap='winter')\n",
    "    plt.plot(x1, x2)\n",
    "    plt.title(f'when C={i}')\n",
    "    plt.xlabel('feature_1')\n",
    "    plt.ylabel('feature_2')\n",
    "    plt.show()\n",
    "    print()"
   ]
  },
  {
   "cell_type": "code",
   "execution_count": null,
   "metadata": {},
   "outputs": [],
   "source": []
  },
  {
   "cell_type": "code",
   "execution_count": null,
   "metadata": {},
   "outputs": [],
   "source": []
  }
 ],
 "metadata": {
  "kernelspec": {
   "display_name": "Python 3",
   "language": "python",
   "name": "python3"
  },
  "language_info": {
   "codemirror_mode": {
    "name": "ipython",
    "version": 3
   },
   "file_extension": ".py",
   "mimetype": "text/x-python",
   "name": "python",
   "nbconvert_exporter": "python",
   "pygments_lexer": "ipython3",
   "version": "3.7.3"
  }
 },
 "nbformat": 4,
 "nbformat_minor": 2
}
