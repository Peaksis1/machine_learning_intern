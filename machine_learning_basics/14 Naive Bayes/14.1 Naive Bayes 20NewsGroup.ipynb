{
 "cells": [
  {
   "cell_type": "code",
   "execution_count": 1,
   "metadata": {},
   "outputs": [],
   "source": [
    "from sklearn.datasets import fetch_20newsgroups\n",
    "data = fetch_20newsgroups()"
   ]
  },
  {
   "cell_type": "code",
   "execution_count": 2,
   "metadata": {},
   "outputs": [
    {
     "data": {
      "text/plain": [
       "['alt.atheism',\n",
       " 'comp.graphics',\n",
       " 'comp.os.ms-windows.misc',\n",
       " 'comp.sys.ibm.pc.hardware',\n",
       " 'comp.sys.mac.hardware',\n",
       " 'comp.windows.x',\n",
       " 'misc.forsale',\n",
       " 'rec.autos',\n",
       " 'rec.motorcycles',\n",
       " 'rec.sport.baseball',\n",
       " 'rec.sport.hockey',\n",
       " 'sci.crypt',\n",
       " 'sci.electronics',\n",
       " 'sci.med',\n",
       " 'sci.space',\n",
       " 'soc.religion.christian',\n",
       " 'talk.politics.guns',\n",
       " 'talk.politics.mideast',\n",
       " 'talk.politics.misc',\n",
       " 'talk.religion.misc']"
      ]
     },
     "execution_count": 2,
     "metadata": {},
     "output_type": "execute_result"
    }
   ],
   "source": [
    "data.target_names "
   ]
  },
  {
   "cell_type": "code",
   "execution_count": 3,
   "metadata": {},
   "outputs": [],
   "source": [
    "category = ['talk.religion.misc', 'comp.graphics','sci.space']"
   ]
  },
  {
   "cell_type": "code",
   "execution_count": 4,
   "metadata": {},
   "outputs": [],
   "source": [
    "train = fetch_20newsgroups(subset = 'train', \n",
    "                           categories = category )\n",
    "test = fetch_20newsgroups(subset = 'test', \n",
    "                          categories = category )"
   ]
  },
  {
   "cell_type": "code",
   "execution_count": 5,
   "metadata": {},
   "outputs": [
    {
     "data": {
      "text/plain": [
       "1554"
      ]
     },
     "execution_count": 5,
     "metadata": {},
     "output_type": "execute_result"
    }
   ],
   "source": [
    "len(train.data)"
   ]
  },
  {
   "cell_type": "code",
   "execution_count": 6,
   "metadata": {},
   "outputs": [
    {
     "data": {
      "text/plain": [
       "1034"
      ]
     },
     "execution_count": 6,
     "metadata": {},
     "output_type": "execute_result"
    }
   ],
   "source": [
    "len(test.data)"
   ]
  },
  {
   "cell_type": "code",
   "execution_count": 7,
   "metadata": {},
   "outputs": [],
   "source": [
    "# df = pd.DataFrame(train.data, columns = ['News'])\n",
    "# df.head()"
   ]
  },
  {
   "cell_type": "code",
   "execution_count": 8,
   "metadata": {},
   "outputs": [],
   "source": [
    "# import re\n",
    "# def clean(x):\n",
    "#     x=re.sub(r'\\W',' ',x)\n",
    "    \n",
    "#     x = re.sub(r'<.*>', '', x)        #remove html tags\n",
    "    \n",
    "#     x = re.sub(r'[^a-zA-Z0-9]',' ',x) #remove Punctuations\n",
    "    \n",
    "#     x=re.sub(r'\\s+[a-z]\\s+',' ',x)    #remove single char  \n",
    "    \n",
    "#     x = re.sub(r'\\s+',' ',x)          # remove extra space's        \n",
    "#     return x.lower()\n",
    "\n",
    "# train.data = train.data[1].apply(clean)"
   ]
  },
  {
   "cell_type": "code",
   "execution_count": 9,
   "metadata": {},
   "outputs": [],
   "source": [
    "# df[train_review]=df.News.apply(clean)"
   ]
  },
  {
   "cell_type": "code",
   "execution_count": 10,
   "metadata": {},
   "outputs": [
    {
     "name": "stdout",
     "output_type": "stream",
     "text": [
      "From: mccall@mksol.dseg.ti.com (fred j mccall 575-3539)\n",
      "Subject: Re: Why DC-1 will be the way of the future.\n",
      "Organization: Texas Instruments Inc\n",
      "Lines: 22\n",
      "\n",
      "In <1r6ub0$mgl@access.digex.net> prb@access.digex.com (Pat) writes:\n",
      "\n",
      ">In article <1993Apr22.164801.7530@julian.uwo.ca> jdnicoll@prism.ccs.uwo.ca (James Davis Nicoll) writes:\n",
      ">>\tHmmm. I seem to recall that the attraction of solid state record-\n",
      ">>players and radios in the 1960s wasn't better performance but lower\n",
      ">>per-unit cost than vacuum-tube systems.\n",
      ">>\n",
      "\n",
      "\n",
      ">I don't think so at first,  but solid state offered  better reliabity,\n",
      ">id bet,  and any lower costs would be only after the processes really scaled up.\n",
      "\n",
      "Careful.  Making statements about how solid state is (generally) more\n",
      "reliable than analog will get you a nasty follow-up from Tommy Mac or\n",
      "Pat.  Wait a minute; you *are* Pat.  Pleased to see that you're not\n",
      "suffering from the bugaboos of a small mind.  ;-)\n",
      "\n",
      "-- \n",
      "\"Insisting on perfect safety is for people who don't have the balls to live\n",
      " in the real world.\"   -- Mary Shafer, NASA Ames Dryden\n",
      "------------------------------------------------------------------------------\n",
      "Fred.McCall@dseg.ti.com - I don't speak for others and they don't speak for me.\n",
      "\n"
     ]
    }
   ],
   "source": [
    "print(train.data[1])"
   ]
  },
  {
   "cell_type": "code",
   "execution_count": 11,
   "metadata": {},
   "outputs": [
    {
     "name": "stdout",
     "output_type": "stream",
     "text": [
      "sci.space\n"
     ]
    }
   ],
   "source": [
    "print(train.target_names[train.target[1]])"
   ]
  },
  {
   "cell_type": "code",
   "execution_count": 12,
   "metadata": {},
   "outputs": [
    {
     "name": "stdout",
     "output_type": "stream",
     "text": [
      "[\"From: nicho@vnet.IBM.COM (Greg Stewart-Nicholls)\\nSubject: Re: Biosphere II\\nReply-To: nicho@vnet.ibm.com\\nDisclaimer: This posting represents the poster's views, not those of IBM\\nNews-Software: UReply 3.1\\nX-X-From: nicho@vnet.ibm.com\\n            <1q1kia$gg8@access.digex.net>\\nLines: 18\\n\\nIn <1q1kia$gg8@access.digex.net> Pat writes:\\n>In article <19930408.043740.516@almaden.ibm.com> nicho@vnet.ibm.com writes:\\n>>In <1q09ud$ji0@access.digex.net> Pat writes:\\n>>>Why is everyone being so critical of B2?\\n>> Because it's bogus science, promoted as 'real' science.\\n>It seems to me, that it's sorta a large engineering project more\\n>then a science project.\\n  Bingo.\\n>B2 is not bench science,  but rather a large scale attempt to\\n>re-create a series of micro-ecologies.   what's so eveil about this?\\n Nothing evil at all. There's no actual harm in what they're doing, only\\nhow they represent it.\\n\\n -----------------------------------------------------------------\\n .sig files are like strings ... every yo-yo's got one.\\n\\nGreg Nicholls ... nicho@vnet.ibm.com (business) or\\n                  nicho@olympus.demon.co.uk (private)\\n\", 'From: mccall@mksol.dseg.ti.com (fred j mccall 575-3539)\\nSubject: Re: Why DC-1 will be the way of the future.\\nOrganization: Texas Instruments Inc\\nLines: 22\\n\\nIn <1r6ub0$mgl@access.digex.net> prb@access.digex.com (Pat) writes:\\n\\n>In article <1993Apr22.164801.7530@julian.uwo.ca> jdnicoll@prism.ccs.uwo.ca (James Davis Nicoll) writes:\\n>>\\tHmmm. I seem to recall that the attraction of solid state record-\\n>>players and radios in the 1960s wasn\\'t better performance but lower\\n>>per-unit cost than vacuum-tube systems.\\n>>\\n\\n\\n>I don\\'t think so at first,  but solid state offered  better reliabity,\\n>id bet,  and any lower costs would be only after the processes really scaled up.\\n\\nCareful.  Making statements about how solid state is (generally) more\\nreliable than analog will get you a nasty follow-up from Tommy Mac or\\nPat.  Wait a minute; you *are* Pat.  Pleased to see that you\\'re not\\nsuffering from the bugaboos of a small mind.  ;-)\\n\\n-- \\n\"Insisting on perfect safety is for people who don\\'t have the balls to live\\n in the real world.\"   -- Mary Shafer, NASA Ames Dryden\\n------------------------------------------------------------------------------\\nFred.McCall@dseg.ti.com - I don\\'t speak for others and they don\\'t speak for me.\\n', \"From: ch981@cleveland.Freenet.Edu (Tony Alicea)\\nSubject: Re: OTO, the Ancient Order of Oriental Templars\\nOrganization: Case Western Reserve University, Cleveland, OH (USA)\\nLines: 11\\nReply-To: ch981@cleveland.Freenet.Edu (Tony Alicea)\\nNNTP-Posting-Host: hela.ins.cwru.edu\\n\\n\\nIn a previous article, shades@sorinc.cutler.com (Darrin A. Hyrup) says:\\n\\n>They [Thelema Lodge] don't have an internet address, but they do have a CIS\\n>address which can be reached via uucp/internet.  It is 72105,1351 so I guess\\n>that would be '72105.1351@cis.com' or something like that.\\n>\\n\\t\\t......@compuserve.com\\n\\nTony\\n\\n\", 'From: shag@aero.org (Rob Unverzagt)\\nSubject: Re: space food sticks\\nKeywords: food\\nArticle-I.D.: news.1pscc6INNebg\\nOrganization: Organization?  You must be kidding.\\nLines: 35\\nNNTP-Posting-Host: aerospace.aero.org\\n\\nIn article <1pr5u2$t0b@agate.berkeley.edu> ghelf@violet.berkeley.edu (;;;;RD48) writes:\\n> I had spacefood sticks just about every morning for breakfast in\\n> first and second grade (69-70, 70-71).  They came in Chocolate,\\n> strawberry, and peanut butter and were cylinders about 10cm long\\n> and 1cm in diameter wrapped in yellow space foil (well, it seemed\\n> like space foil at the time).  \\n\\nWasn\\'t there a \"plain\" flavor too?  They looked more like some\\nkind of extruded industrial product than food -- perfectly\\nsmooth cylinders with perfectly smooth ends.  Kinda scary.\\n\\n> The taste is hard to describe, although I remember it fondly.  It was\\n> most certainly more \"candy\" than say a modern \"Power Bar.\"  Sort of\\n> a toffee injected with vitamins.  The chocolate Power Bar is a rough\\n> approximation of the taste.  Strawberry sucked.\\n\\nAn other post described it as like a \"microwaved Tootsie Roll\" --\\nwhich captures the texture pretty well.  As for taste, they were\\nlike candy, only not very sweet -- does that make sense? I recall\\nliking them for their texture, not taste. I guess I have well\\ndeveloped texture buds.\\n\\n> Man, these were my \"60\\'s.\"\\n\\nIt was obligatory to eat a few while watching \"Captain Scarlet\".\\nDoes anybody else remember _that_, as long as we\\'re off the\\ntopic of space?\\n\\nShag\\n\\n-- \\n----------------------------------------------------------------------\\n       Rob Unverzagt        |\\n  shag@aerospace.aero.org   |       Tuesday is soylent green day.\\nunverzagt@courier2.aero.org | \\n', 'From: 235wardell@gw.wmich.edu\\nSubject: VGA Passthrough Cables!\\nOrganization: Western Michigan University\\nLines: 14\\n\\n\\n\\tDoes anyone know the phone number to a place where i can get\\na VGA passthrough?\\n\\n\\tI want to hook up my VGA card to my XGA card (whcih you can can).\\nAll I need is the cable that connects them.  It is the same type of\\ncable that you would connect from your VGA card to say a Video Blaster\\nor something.\\n\\n\\tThanks.\\n\\t\\t\\t\\t\\t\\t-Brad\\n\\n\\n\\n']\n"
     ]
    }
   ],
   "source": [
    "print(train.data[:5])"
   ]
  },
  {
   "cell_type": "code",
   "execution_count": 13,
   "metadata": {},
   "outputs": [
    {
     "name": "stdout",
     "output_type": "stream",
     "text": [
      "[1 1 2 1 0]\n"
     ]
    }
   ],
   "source": [
    "print(train.target[:5])"
   ]
  },
  {
   "cell_type": "code",
   "execution_count": 14,
   "metadata": {},
   "outputs": [],
   "source": [
    "y_train, y_test = train.target, test.target"
   ]
  },
  {
   "cell_type": "code",
   "execution_count": 15,
   "metadata": {},
   "outputs": [],
   "source": [
    "from sklearn.feature_extraction.text import CountVectorizer\n",
    "vect = CountVectorizer(max_df = 0.5, stop_words = 'english')\n",
    "x_train = vect.fit_transform(train.data)\n",
    "x_test = vect.transform(test.data)"
   ]
  },
  {
   "cell_type": "markdown",
   "metadata": {},
   "source": [
    "We use **fit_transform() on the train data** so that we learn the parameters of scaling on the train data and in the same time we scale the train data. \n",
    "\n",
    "We only use **transform() on the test data** because we use the scaling paramaters learned on the train data to scale the test data."
   ]
  },
  {
   "cell_type": "code",
   "execution_count": 16,
   "metadata": {},
   "outputs": [],
   "source": [
    "from sklearn.naive_bayes import MultinomialNB\n",
    "nb = MultinomialNB()"
   ]
  },
  {
   "cell_type": "code",
   "execution_count": 17,
   "metadata": {},
   "outputs": [
    {
     "data": {
      "text/plain": [
       "MultinomialNB(alpha=1.0, class_prior=None, fit_prior=True)"
      ]
     },
     "execution_count": 17,
     "metadata": {},
     "output_type": "execute_result"
    }
   ],
   "source": [
    "nb.fit(x_train, y_train)"
   ]
  },
  {
   "cell_type": "code",
   "execution_count": 18,
   "metadata": {},
   "outputs": [],
   "source": [
    "y_pred = nb.predict(x_test)"
   ]
  },
  {
   "cell_type": "code",
   "execution_count": 19,
   "metadata": {},
   "outputs": [
    {
     "data": {
      "text/plain": [
       "0.9593810444874274"
      ]
     },
     "execution_count": 19,
     "metadata": {},
     "output_type": "execute_result"
    }
   ],
   "source": [
    "from sklearn.metrics import accuracy_score\n",
    "accuracy_score(y_test, y_pred)"
   ]
  },
  {
   "cell_type": "code",
   "execution_count": 20,
   "metadata": {},
   "outputs": [],
   "source": [
    "test_doc = ['God is everywhere','OpenGL on GPU is fast']\n",
    "test_doc_trans = vect.transform(test_doc)\n",
    "y_pred_test= nb.predict(test_doc_trans)"
   ]
  },
  {
   "cell_type": "code",
   "execution_count": 21,
   "metadata": {},
   "outputs": [
    {
     "data": {
      "text/plain": [
       "array([2, 0], dtype=int64)"
      ]
     },
     "execution_count": 21,
     "metadata": {},
     "output_type": "execute_result"
    }
   ],
   "source": [
    "y_pred_test"
   ]
  },
  {
   "cell_type": "code",
   "execution_count": 22,
   "metadata": {},
   "outputs": [
    {
     "name": "stdout",
     "output_type": "stream",
     "text": [
      "God is everywhere => talk.religion.misc\n",
      "OpenGL on GPU is fast => comp.graphics\n"
     ]
    }
   ],
   "source": [
    "for i,j in zip(test_doc, y_pred_test):\n",
    "    print('%s => %s' %(i, train.target_names[j]))"
   ]
  },
  {
   "cell_type": "code",
   "execution_count": null,
   "metadata": {},
   "outputs": [],
   "source": []
  }
 ],
 "metadata": {
  "kernelspec": {
   "display_name": "Python 3",
   "language": "python",
   "name": "python3"
  },
  "language_info": {
   "codemirror_mode": {
    "name": "ipython",
    "version": 3
   },
   "file_extension": ".py",
   "mimetype": "text/x-python",
   "name": "python",
   "nbconvert_exporter": "python",
   "pygments_lexer": "ipython3",
   "version": "3.7.3"
  }
 },
 "nbformat": 4,
 "nbformat_minor": 2
}
